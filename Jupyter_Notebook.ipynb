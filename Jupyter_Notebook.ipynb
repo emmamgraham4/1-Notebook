{
 "cells": [
  {
   "cell_type": "markdown",
   "id": "94deb79b",
   "metadata": {},
   "source": [
    "# Data Science Tools and Ecosystem "
   ]
  },
  {
   "cell_type": "markdown",
   "id": "72eeada9",
   "metadata": {},
   "source": [
    " In this notebook, Data Science Tools and Ecosystem are summarized."
   ]
  },
  {
   "cell_type": "markdown",
   "id": "6be89394",
   "metadata": {},
   "source": [
    "Some of the popular languages that Data Scientists use are:\n",
    "   1. Python\n",
    "   2. R\n",
    "   3. SQL"
   ]
  },
  {
   "cell_type": "markdown",
   "id": "bfbf39ed",
   "metadata": {},
   "source": [
    "Some of the commonly used libraries used by Data Scientists include:\n",
    "   1. Pandas\n",
    "   2. NumPy\n",
    "   3. Matplotlib"
   ]
  },
  {
   "cell_type": "markdown",
   "id": "958e8a49",
   "metadata": {},
   "source": [
    "|Data Science Tools|\n",
    "--------------------\n",
    "|RStudio|\n",
    "|Jupyter Notebooks|\n",
    "|Zeppelin Notebooks|\n"
   ]
  },
  {
   "cell_type": "markdown",
   "id": "84b85ffb",
   "metadata": {},
   "source": [
    "### Below are a few examples of evaluating arithmetic expressions in Python\n"
   ]
  },
  {
   "cell_type": "code",
   "execution_count": 7,
   "id": "5dc7bf9a",
   "metadata": {},
   "outputs": [
    {
     "data": {
      "text/plain": [
       "17"
      ]
     },
     "execution_count": 7,
     "metadata": {},
     "output_type": "execute_result"
    }
   ],
   "source": [
    "# This a simple arithmetic expression to mutiply then add integers\n",
    "(3*4)+5"
   ]
  },
  {
   "cell_type": "code",
   "execution_count": 10,
   "id": "bd2d6694",
   "metadata": {},
   "outputs": [
    {
     "data": {
      "text/plain": [
       "3.3333333333333335"
      ]
     },
     "execution_count": 10,
     "metadata": {},
     "output_type": "execute_result"
    }
   ],
   "source": [
    "# This will convert 200 minutes to hours by diving by 60\n",
    "200/60"
   ]
  },
  {
   "cell_type": "markdown",
   "id": "fda51c17",
   "metadata": {},
   "source": [
    "**Objectives:**\n",
    "   - List popular languages for Data Science\n",
    "   - List popular Data Science libraries\n",
    "   - Create a table of Data Science tools"
   ]
  },
  {
   "cell_type": "markdown",
   "id": "4d4d9040",
   "metadata": {},
   "source": [
    "## Author\n",
    "Emma Graham"
   ]
  },
  {
   "cell_type": "code",
   "execution_count": null,
   "id": "eac88456",
   "metadata": {},
   "outputs": [],
   "source": []
  }
 ],
 "metadata": {
  "kernelspec": {
   "display_name": "Python 3 (ipykernel)",
   "language": "python",
   "name": "python3"
  },
  "language_info": {
   "codemirror_mode": {
    "name": "ipython",
    "version": 3
   },
   "file_extension": ".py",
   "mimetype": "text/x-python",
   "name": "python",
   "nbconvert_exporter": "python",
   "pygments_lexer": "ipython3",
   "version": "3.11.3"
  }
 },
 "nbformat": 4,
 "nbformat_minor": 5
}
